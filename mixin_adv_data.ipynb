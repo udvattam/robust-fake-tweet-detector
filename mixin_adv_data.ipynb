{
 "cells": [
  {
   "cell_type": "code",
   "execution_count": 1,
   "metadata": {},
   "outputs": [],
   "source": [
    "import pandas as pd"
   ]
  },
  {
   "cell_type": "markdown",
   "metadata": {},
   "source": [
    "# Put all adversarial samples in test data"
   ]
  },
  {
   "cell_type": "code",
   "execution_count": 13,
   "metadata": {},
   "outputs": [
    {
     "name": "stdout",
     "output_type": "stream",
     "text": [
      "(15556, 9)\n"
     ]
    },
    {
     "data": {
      "text/html": [
       "<div>\n",
       "<style scoped>\n",
       "    .dataframe tbody tr th:only-of-type {\n",
       "        vertical-align: middle;\n",
       "    }\n",
       "\n",
       "    .dataframe tbody tr th {\n",
       "        vertical-align: top;\n",
       "    }\n",
       "\n",
       "    .dataframe thead th {\n",
       "        text-align: right;\n",
       "    }\n",
       "</style>\n",
       "<table border=\"1\" class=\"dataframe\">\n",
       "  <thead>\n",
       "    <tr style=\"text-align: right;\">\n",
       "      <th></th>\n",
       "      <th>ground_truth_output</th>\n",
       "      <th>num_queries</th>\n",
       "      <th>original_output</th>\n",
       "      <th>original_score</th>\n",
       "      <th>original_text</th>\n",
       "      <th>perturbed_output</th>\n",
       "      <th>perturbed_score</th>\n",
       "      <th>perturbed_text</th>\n",
       "      <th>result_type</th>\n",
       "    </tr>\n",
       "  </thead>\n",
       "  <tbody>\n",
       "    <tr>\n",
       "      <th>0</th>\n",
       "      <td>1.0</td>\n",
       "      <td>75.0</td>\n",
       "      <td>1.0</td>\n",
       "      <td>0.000293</td>\n",
       "      <td>The decision to remove Chick-fil-A from Emory ...</td>\n",
       "      <td>0.0</td>\n",
       "      <td>0.998949</td>\n",
       "      <td>The resolutions to remove Chick-fil-A from Emo...</td>\n",
       "      <td>Successful</td>\n",
       "    </tr>\n",
       "    <tr>\n",
       "      <th>1</th>\n",
       "      <td>1.0</td>\n",
       "      <td>120.0</td>\n",
       "      <td>1.0</td>\n",
       "      <td>0.000170</td>\n",
       "      <td>Mike Dovillas big ideas like expanding the Ohi...</td>\n",
       "      <td>0.0</td>\n",
       "      <td>0.927907</td>\n",
       "      <td>Mike Dovillas big ideas like expanding the Ohi...</td>\n",
       "      <td>Successful</td>\n",
       "    </tr>\n",
       "    <tr>\n",
       "      <th>2</th>\n",
       "      <td>0.0</td>\n",
       "      <td>1.0</td>\n",
       "      <td>1.0</td>\n",
       "      <td>0.959588</td>\n",
       "      <td>Ron Klein repeatedly voted in favor of amnesty...</td>\n",
       "      <td>1.0</td>\n",
       "      <td>0.959588</td>\n",
       "      <td>Ron Klein repeatedly voted in favor of amnesty...</td>\n",
       "      <td>Skipped</td>\n",
       "    </tr>\n",
       "    <tr>\n",
       "      <th>3</th>\n",
       "      <td>1.0</td>\n",
       "      <td>55.0</td>\n",
       "      <td>1.0</td>\n",
       "      <td>0.000151</td>\n",
       "      <td>Since the salary for state lawmakers was raise...</td>\n",
       "      <td>0.0</td>\n",
       "      <td>0.606062</td>\n",
       "      <td>If the salary for state parliamentary was rais...</td>\n",
       "      <td>Successful</td>\n",
       "    </tr>\n",
       "    <tr>\n",
       "      <th>4</th>\n",
       "      <td>0.0</td>\n",
       "      <td>41.0</td>\n",
       "      <td>0.0</td>\n",
       "      <td>0.006753</td>\n",
       "      <td>Before Congress, (Tom) Cotton got paid handsom...</td>\n",
       "      <td>1.0</td>\n",
       "      <td>0.968190</td>\n",
       "      <td>Before Congress, (Tom) Cotton got paid gratefu...</td>\n",
       "      <td>Successful</td>\n",
       "    </tr>\n",
       "  </tbody>\n",
       "</table>\n",
       "</div>"
      ],
      "text/plain": [
       "   ground_truth_output  num_queries  original_output  original_score  \\\n",
       "0                  1.0         75.0              1.0        0.000293   \n",
       "1                  1.0        120.0              1.0        0.000170   \n",
       "2                  0.0          1.0              1.0        0.959588   \n",
       "3                  1.0         55.0              1.0        0.000151   \n",
       "4                  0.0         41.0              0.0        0.006753   \n",
       "\n",
       "                                       original_text  perturbed_output  \\\n",
       "0  The decision to remove Chick-fil-A from Emory ...               0.0   \n",
       "1  Mike Dovillas big ideas like expanding the Ohi...               0.0   \n",
       "2  Ron Klein repeatedly voted in favor of amnesty...               1.0   \n",
       "3  Since the salary for state lawmakers was raise...               0.0   \n",
       "4  Before Congress, (Tom) Cotton got paid handsom...               1.0   \n",
       "\n",
       "   perturbed_score                                     perturbed_text  \\\n",
       "0         0.998949  The resolutions to remove Chick-fil-A from Emo...   \n",
       "1         0.927907  Mike Dovillas big ideas like expanding the Ohi...   \n",
       "2         0.959588  Ron Klein repeatedly voted in favor of amnesty...   \n",
       "3         0.606062  If the salary for state parliamentary was rais...   \n",
       "4         0.968190  Before Congress, (Tom) Cotton got paid gratefu...   \n",
       "\n",
       "  result_type  \n",
       "0  Successful  \n",
       "1  Successful  \n",
       "2     Skipped  \n",
       "3  Successful  \n",
       "4  Successful  "
      ]
     },
     "execution_count": 13,
     "metadata": {},
     "output_type": "execute_result"
    }
   ],
   "source": [
    "df_adv = pd.read_csv('cleaned_textfooler_tweets.csv', index_col=0)\n",
    "print(df_adv.shape)\n",
    "df_adv.head()"
   ]
  },
  {
   "cell_type": "code",
   "execution_count": 14,
   "metadata": {},
   "outputs": [
    {
     "name": "stdout",
     "output_type": "stream",
     "text": [
      "(13778, 3)\n"
     ]
    },
    {
     "data": {
      "text/html": [
       "<div>\n",
       "<style scoped>\n",
       "    .dataframe tbody tr th:only-of-type {\n",
       "        vertical-align: middle;\n",
       "    }\n",
       "\n",
       "    .dataframe tbody tr th {\n",
       "        vertical-align: top;\n",
       "    }\n",
       "\n",
       "    .dataframe thead th {\n",
       "        text-align: right;\n",
       "    }\n",
       "</style>\n",
       "<table border=\"1\" class=\"dataframe\">\n",
       "  <thead>\n",
       "    <tr style=\"text-align: right;\">\n",
       "      <th></th>\n",
       "      <th>text</th>\n",
       "      <th>truth</th>\n",
       "      <th>split</th>\n",
       "    </tr>\n",
       "  </thead>\n",
       "  <tbody>\n",
       "    <tr>\n",
       "      <th>0</th>\n",
       "      <td>The resolutions to remove Chick-fil-A from Emo...</td>\n",
       "      <td>1</td>\n",
       "      <td>TEST</td>\n",
       "    </tr>\n",
       "    <tr>\n",
       "      <th>1</th>\n",
       "      <td>Mike Dovillas big ideas like expanding the Ohi...</td>\n",
       "      <td>1</td>\n",
       "      <td>TEST</td>\n",
       "    </tr>\n",
       "    <tr>\n",
       "      <th>3</th>\n",
       "      <td>If the salary for state parliamentary was rais...</td>\n",
       "      <td>1</td>\n",
       "      <td>TEST</td>\n",
       "    </tr>\n",
       "    <tr>\n",
       "      <th>4</th>\n",
       "      <td>Before Congress, (Tom) Cotton got paid gratefu...</td>\n",
       "      <td>0</td>\n",
       "      <td>TEST</td>\n",
       "    </tr>\n",
       "    <tr>\n",
       "      <th>5</th>\n",
       "      <td>Tennessees appeals courts judges were picked b...</td>\n",
       "      <td>1</td>\n",
       "      <td>TEST</td>\n",
       "    </tr>\n",
       "  </tbody>\n",
       "</table>\n",
       "</div>"
      ],
      "text/plain": [
       "                                                text  truth split\n",
       "0  The resolutions to remove Chick-fil-A from Emo...      1  TEST\n",
       "1  Mike Dovillas big ideas like expanding the Ohi...      1  TEST\n",
       "3  If the salary for state parliamentary was rais...      1  TEST\n",
       "4  Before Congress, (Tom) Cotton got paid gratefu...      0  TEST\n",
       "5  Tennessees appeals courts judges were picked b...      1  TEST"
      ]
     },
     "execution_count": 14,
     "metadata": {},
     "output_type": "execute_result"
    }
   ],
   "source": [
    "df_adv = df_adv[df_adv['result_type']=='Successful'][['perturbed_text', 'ground_truth_output']]\n",
    "df_adv.columns = ['text', 'truth']\n",
    "df_adv['truth'] = df_adv['truth'].astype('int')\n",
    "df_adv['split'] = 'TEST'\n",
    "print(df_adv.shape)\n",
    "df_adv.head()"
   ]
  },
  {
   "cell_type": "code",
   "execution_count": 15,
   "metadata": {},
   "outputs": [
    {
     "name": "stdout",
     "output_type": "stream",
     "text": [
      "(47503, 3)\n"
     ]
    },
    {
     "data": {
      "text/html": [
       "<div>\n",
       "<style scoped>\n",
       "    .dataframe tbody tr th:only-of-type {\n",
       "        vertical-align: middle;\n",
       "    }\n",
       "\n",
       "    .dataframe tbody tr th {\n",
       "        vertical-align: top;\n",
       "    }\n",
       "\n",
       "    .dataframe thead th {\n",
       "        text-align: right;\n",
       "    }\n",
       "</style>\n",
       "<table border=\"1\" class=\"dataframe\">\n",
       "  <thead>\n",
       "    <tr style=\"text-align: right;\">\n",
       "      <th></th>\n",
       "      <th>text</th>\n",
       "      <th>truth</th>\n",
       "      <th>split</th>\n",
       "    </tr>\n",
       "  </thead>\n",
       "  <tbody>\n",
       "    <tr>\n",
       "      <th>0</th>\n",
       "      <td>The decision to remove Chick-fil-A from Emory ...</td>\n",
       "      <td>1</td>\n",
       "      <td>TRAIN</td>\n",
       "    </tr>\n",
       "    <tr>\n",
       "      <th>1</th>\n",
       "      <td>Mike Dovillas big ideas like expanding the Ohi...</td>\n",
       "      <td>1</td>\n",
       "      <td>TRAIN</td>\n",
       "    </tr>\n",
       "    <tr>\n",
       "      <th>2</th>\n",
       "      <td>Ron Klein repeatedly voted in favor of amnesty...</td>\n",
       "      <td>0</td>\n",
       "      <td>TRAIN</td>\n",
       "    </tr>\n",
       "    <tr>\n",
       "      <th>3</th>\n",
       "      <td>Since the salary for state lawmakers was raise...</td>\n",
       "      <td>1</td>\n",
       "      <td>TRAIN</td>\n",
       "    </tr>\n",
       "    <tr>\n",
       "      <th>4</th>\n",
       "      <td>Before Congress, (Tom) Cotton got paid handsom...</td>\n",
       "      <td>0</td>\n",
       "      <td>TRAIN</td>\n",
       "    </tr>\n",
       "  </tbody>\n",
       "</table>\n",
       "</div>"
      ],
      "text/plain": [
       "                                                text  truth  split\n",
       "0  The decision to remove Chick-fil-A from Emory ...      1  TRAIN\n",
       "1  Mike Dovillas big ideas like expanding the Ohi...      1  TRAIN\n",
       "2  Ron Klein repeatedly voted in favor of amnesty...      0  TRAIN\n",
       "3  Since the salary for state lawmakers was raise...      1  TRAIN\n",
       "4  Before Congress, (Tom) Cotton got paid handsom...      0  TRAIN"
      ]
     },
     "execution_count": 15,
     "metadata": {},
     "output_type": "execute_result"
    }
   ],
   "source": [
    "df = pd.read_csv('combined_relevant_data.csv')\n",
    "print(df.shape)\n",
    "df.head()"
   ]
  },
  {
   "cell_type": "code",
   "execution_count": 18,
   "metadata": {},
   "outputs": [
    {
     "name": "stdout",
     "output_type": "stream",
     "text": [
      "(61281, 3)\n"
     ]
    },
    {
     "data": {
      "text/html": [
       "<div>\n",
       "<style scoped>\n",
       "    .dataframe tbody tr th:only-of-type {\n",
       "        vertical-align: middle;\n",
       "    }\n",
       "\n",
       "    .dataframe tbody tr th {\n",
       "        vertical-align: top;\n",
       "    }\n",
       "\n",
       "    .dataframe thead th {\n",
       "        text-align: right;\n",
       "    }\n",
       "</style>\n",
       "<table border=\"1\" class=\"dataframe\">\n",
       "  <thead>\n",
       "    <tr style=\"text-align: right;\">\n",
       "      <th></th>\n",
       "      <th>text</th>\n",
       "      <th>truth</th>\n",
       "      <th>split</th>\n",
       "    </tr>\n",
       "  </thead>\n",
       "  <tbody>\n",
       "    <tr>\n",
       "      <th>15549</th>\n",
       "      <td>RAW VIDEO War Memorial assassinate. http://t.c...</td>\n",
       "      <td>1</td>\n",
       "      <td>TEST</td>\n",
       "    </tr>\n",
       "    <tr>\n",
       "      <th>15550</th>\n",
       "      <td>Says federal regulated adopted in 2011 increas...</td>\n",
       "      <td>1</td>\n",
       "      <td>TEST</td>\n",
       "    </tr>\n",
       "    <tr>\n",
       "      <th>15551</th>\n",
       "      <td>RIPTA has explicitly some of the entire busses...</td>\n",
       "      <td>1</td>\n",
       "      <td>TEST</td>\n",
       "    </tr>\n",
       "    <tr>\n",
       "      <th>15552</th>\n",
       "      <td>Lawyer for Dorian Johnson, eyewitness to #Mich...</td>\n",
       "      <td>1</td>\n",
       "      <td>TEST</td>\n",
       "    </tr>\n",
       "    <tr>\n",
       "      <th>15553</th>\n",
       "      <td>#Ferguson: Commune Don't Need Tanks http://t.c...</td>\n",
       "      <td>1</td>\n",
       "      <td>TEST</td>\n",
       "    </tr>\n",
       "  </tbody>\n",
       "</table>\n",
       "</div>"
      ],
      "text/plain": [
       "                                                    text  truth split\n",
       "15549  RAW VIDEO War Memorial assassinate. http://t.c...      1  TEST\n",
       "15550  Says federal regulated adopted in 2011 increas...      1  TEST\n",
       "15551  RIPTA has explicitly some of the entire busses...      1  TEST\n",
       "15552  Lawyer for Dorian Johnson, eyewitness to #Mich...      1  TEST\n",
       "15553  #Ferguson: Commune Don't Need Tanks http://t.c...      1  TEST"
      ]
     },
     "execution_count": 18,
     "metadata": {},
     "output_type": "execute_result"
    }
   ],
   "source": [
    "df_combined = pd.concat([df, df_adv])\n",
    "print(df_combined.shape)\n",
    "df_combined.tail()"
   ]
  },
  {
   "cell_type": "code",
   "execution_count": 19,
   "metadata": {},
   "outputs": [],
   "source": [
    "df_combined.to_csv('combined_original_adv_data.csv', index=None)"
   ]
  },
  {
   "cell_type": "markdown",
   "metadata": {},
   "source": [
    "# Put 50% adversarial samples in train and the rest in test"
   ]
  },
  {
   "cell_type": "code",
   "execution_count": 68,
   "metadata": {},
   "outputs": [
    {
     "name": "stdout",
     "output_type": "stream",
     "text": [
      "(15556, 9)\n"
     ]
    },
    {
     "data": {
      "text/html": [
       "<div>\n",
       "<style scoped>\n",
       "    .dataframe tbody tr th:only-of-type {\n",
       "        vertical-align: middle;\n",
       "    }\n",
       "\n",
       "    .dataframe tbody tr th {\n",
       "        vertical-align: top;\n",
       "    }\n",
       "\n",
       "    .dataframe thead th {\n",
       "        text-align: right;\n",
       "    }\n",
       "</style>\n",
       "<table border=\"1\" class=\"dataframe\">\n",
       "  <thead>\n",
       "    <tr style=\"text-align: right;\">\n",
       "      <th></th>\n",
       "      <th>ground_truth_output</th>\n",
       "      <th>num_queries</th>\n",
       "      <th>original_output</th>\n",
       "      <th>original_score</th>\n",
       "      <th>original_text</th>\n",
       "      <th>perturbed_output</th>\n",
       "      <th>perturbed_score</th>\n",
       "      <th>perturbed_text</th>\n",
       "      <th>result_type</th>\n",
       "    </tr>\n",
       "  </thead>\n",
       "  <tbody>\n",
       "    <tr>\n",
       "      <th>0</th>\n",
       "      <td>1.0</td>\n",
       "      <td>75.0</td>\n",
       "      <td>1.0</td>\n",
       "      <td>0.000293</td>\n",
       "      <td>The decision to remove Chick-fil-A from Emory ...</td>\n",
       "      <td>0.0</td>\n",
       "      <td>0.998949</td>\n",
       "      <td>The resolutions to remove Chick-fil-A from Emo...</td>\n",
       "      <td>Successful</td>\n",
       "    </tr>\n",
       "    <tr>\n",
       "      <th>1</th>\n",
       "      <td>1.0</td>\n",
       "      <td>120.0</td>\n",
       "      <td>1.0</td>\n",
       "      <td>0.000170</td>\n",
       "      <td>Mike Dovillas big ideas like expanding the Ohi...</td>\n",
       "      <td>0.0</td>\n",
       "      <td>0.927907</td>\n",
       "      <td>Mike Dovillas big ideas like expanding the Ohi...</td>\n",
       "      <td>Successful</td>\n",
       "    </tr>\n",
       "    <tr>\n",
       "      <th>2</th>\n",
       "      <td>0.0</td>\n",
       "      <td>1.0</td>\n",
       "      <td>1.0</td>\n",
       "      <td>0.959588</td>\n",
       "      <td>Ron Klein repeatedly voted in favor of amnesty...</td>\n",
       "      <td>1.0</td>\n",
       "      <td>0.959588</td>\n",
       "      <td>Ron Klein repeatedly voted in favor of amnesty...</td>\n",
       "      <td>Skipped</td>\n",
       "    </tr>\n",
       "    <tr>\n",
       "      <th>3</th>\n",
       "      <td>1.0</td>\n",
       "      <td>55.0</td>\n",
       "      <td>1.0</td>\n",
       "      <td>0.000151</td>\n",
       "      <td>Since the salary for state lawmakers was raise...</td>\n",
       "      <td>0.0</td>\n",
       "      <td>0.606062</td>\n",
       "      <td>If the salary for state parliamentary was rais...</td>\n",
       "      <td>Successful</td>\n",
       "    </tr>\n",
       "    <tr>\n",
       "      <th>4</th>\n",
       "      <td>0.0</td>\n",
       "      <td>41.0</td>\n",
       "      <td>0.0</td>\n",
       "      <td>0.006753</td>\n",
       "      <td>Before Congress, (Tom) Cotton got paid handsom...</td>\n",
       "      <td>1.0</td>\n",
       "      <td>0.968190</td>\n",
       "      <td>Before Congress, (Tom) Cotton got paid gratefu...</td>\n",
       "      <td>Successful</td>\n",
       "    </tr>\n",
       "  </tbody>\n",
       "</table>\n",
       "</div>"
      ],
      "text/plain": [
       "   ground_truth_output  num_queries  original_output  original_score  \\\n",
       "0                  1.0         75.0              1.0        0.000293   \n",
       "1                  1.0        120.0              1.0        0.000170   \n",
       "2                  0.0          1.0              1.0        0.959588   \n",
       "3                  1.0         55.0              1.0        0.000151   \n",
       "4                  0.0         41.0              0.0        0.006753   \n",
       "\n",
       "                                       original_text  perturbed_output  \\\n",
       "0  The decision to remove Chick-fil-A from Emory ...               0.0   \n",
       "1  Mike Dovillas big ideas like expanding the Ohi...               0.0   \n",
       "2  Ron Klein repeatedly voted in favor of amnesty...               1.0   \n",
       "3  Since the salary for state lawmakers was raise...               0.0   \n",
       "4  Before Congress, (Tom) Cotton got paid handsom...               1.0   \n",
       "\n",
       "   perturbed_score                                     perturbed_text  \\\n",
       "0         0.998949  The resolutions to remove Chick-fil-A from Emo...   \n",
       "1         0.927907  Mike Dovillas big ideas like expanding the Ohi...   \n",
       "2         0.959588  Ron Klein repeatedly voted in favor of amnesty...   \n",
       "3         0.606062  If the salary for state parliamentary was rais...   \n",
       "4         0.968190  Before Congress, (Tom) Cotton got paid gratefu...   \n",
       "\n",
       "  result_type  \n",
       "0  Successful  \n",
       "1  Successful  \n",
       "2     Skipped  \n",
       "3  Successful  \n",
       "4  Successful  "
      ]
     },
     "execution_count": 68,
     "metadata": {},
     "output_type": "execute_result"
    }
   ],
   "source": [
    "df_adv = pd.read_csv('cleaned_textfooler_tweets.csv', index_col=0)\n",
    "print(df_adv.shape)\n",
    "df_adv.head()"
   ]
  },
  {
   "cell_type": "code",
   "execution_count": 69,
   "metadata": {},
   "outputs": [
    {
     "name": "stdout",
     "output_type": "stream",
     "text": [
      "(13778, 3)\n"
     ]
    },
    {
     "data": {
      "text/html": [
       "<div>\n",
       "<style scoped>\n",
       "    .dataframe tbody tr th:only-of-type {\n",
       "        vertical-align: middle;\n",
       "    }\n",
       "\n",
       "    .dataframe tbody tr th {\n",
       "        vertical-align: top;\n",
       "    }\n",
       "\n",
       "    .dataframe thead th {\n",
       "        text-align: right;\n",
       "    }\n",
       "</style>\n",
       "<table border=\"1\" class=\"dataframe\">\n",
       "  <thead>\n",
       "    <tr style=\"text-align: right;\">\n",
       "      <th></th>\n",
       "      <th>text</th>\n",
       "      <th>truth</th>\n",
       "      <th>split</th>\n",
       "    </tr>\n",
       "  </thead>\n",
       "  <tbody>\n",
       "    <tr>\n",
       "      <th>0</th>\n",
       "      <td>The resolutions to remove Chick-fil-A from Emo...</td>\n",
       "      <td>1</td>\n",
       "      <td>TRAIN</td>\n",
       "    </tr>\n",
       "    <tr>\n",
       "      <th>1</th>\n",
       "      <td>Mike Dovillas big ideas like expanding the Ohi...</td>\n",
       "      <td>1</td>\n",
       "      <td>TRAIN</td>\n",
       "    </tr>\n",
       "    <tr>\n",
       "      <th>2</th>\n",
       "      <td>If the salary for state parliamentary was rais...</td>\n",
       "      <td>1</td>\n",
       "      <td>TRAIN</td>\n",
       "    </tr>\n",
       "    <tr>\n",
       "      <th>3</th>\n",
       "      <td>Before Congress, (Tom) Cotton got paid gratefu...</td>\n",
       "      <td>0</td>\n",
       "      <td>TRAIN</td>\n",
       "    </tr>\n",
       "    <tr>\n",
       "      <th>4</th>\n",
       "      <td>Tennessees appeals courts judges were picked b...</td>\n",
       "      <td>1</td>\n",
       "      <td>TRAIN</td>\n",
       "    </tr>\n",
       "  </tbody>\n",
       "</table>\n",
       "</div>"
      ],
      "text/plain": [
       "                                                text  truth  split\n",
       "0  The resolutions to remove Chick-fil-A from Emo...      1  TRAIN\n",
       "1  Mike Dovillas big ideas like expanding the Ohi...      1  TRAIN\n",
       "2  If the salary for state parliamentary was rais...      1  TRAIN\n",
       "3  Before Congress, (Tom) Cotton got paid gratefu...      0  TRAIN\n",
       "4  Tennessees appeals courts judges were picked b...      1  TRAIN"
      ]
     },
     "execution_count": 69,
     "metadata": {},
     "output_type": "execute_result"
    }
   ],
   "source": [
    "df_adv = df_adv[df_adv['result_type']=='Successful'][['perturbed_text', 'ground_truth_output']]\n",
    "df_adv.reset_index(inplace=True, drop=True)\n",
    "df_adv.columns = ['text', 'truth']\n",
    "df_adv['truth'] = df_adv['truth'].astype('int')\n",
    "df_adv['split'] = 'TRAIN'\n",
    "print(df_adv.shape)\n",
    "df_adv.head()"
   ]
  },
  {
   "cell_type": "code",
   "execution_count": 70,
   "metadata": {},
   "outputs": [
    {
     "data": {
      "text/plain": [
       "TRAIN    13778\n",
       "Name: split, dtype: int64"
      ]
     },
     "execution_count": 70,
     "metadata": {},
     "output_type": "execute_result"
    }
   ],
   "source": [
    "df_adv['split'].value_counts()"
   ]
  },
  {
   "cell_type": "code",
   "execution_count": 71,
   "metadata": {},
   "outputs": [],
   "source": [
    "index_to_change = df_adv.iloc[::2].index"
   ]
  },
  {
   "cell_type": "code",
   "execution_count": 72,
   "metadata": {},
   "outputs": [],
   "source": [
    "df_adv.loc[index_to_change,'split'] = 'TEST'"
   ]
  },
  {
   "cell_type": "code",
   "execution_count": 73,
   "metadata": {},
   "outputs": [
    {
     "data": {
      "text/plain": [
       "TRAIN    6889\n",
       "TEST     6889\n",
       "Name: split, dtype: int64"
      ]
     },
     "execution_count": 73,
     "metadata": {},
     "output_type": "execute_result"
    }
   ],
   "source": [
    "df_adv['split'].value_counts()"
   ]
  },
  {
   "cell_type": "code",
   "execution_count": 74,
   "metadata": {},
   "outputs": [
    {
     "name": "stdout",
     "output_type": "stream",
     "text": [
      "(47503, 3)\n"
     ]
    },
    {
     "data": {
      "text/html": [
       "<div>\n",
       "<style scoped>\n",
       "    .dataframe tbody tr th:only-of-type {\n",
       "        vertical-align: middle;\n",
       "    }\n",
       "\n",
       "    .dataframe tbody tr th {\n",
       "        vertical-align: top;\n",
       "    }\n",
       "\n",
       "    .dataframe thead th {\n",
       "        text-align: right;\n",
       "    }\n",
       "</style>\n",
       "<table border=\"1\" class=\"dataframe\">\n",
       "  <thead>\n",
       "    <tr style=\"text-align: right;\">\n",
       "      <th></th>\n",
       "      <th>text</th>\n",
       "      <th>truth</th>\n",
       "      <th>split</th>\n",
       "    </tr>\n",
       "  </thead>\n",
       "  <tbody>\n",
       "    <tr>\n",
       "      <th>0</th>\n",
       "      <td>The decision to remove Chick-fil-A from Emory ...</td>\n",
       "      <td>1</td>\n",
       "      <td>TRAIN</td>\n",
       "    </tr>\n",
       "    <tr>\n",
       "      <th>1</th>\n",
       "      <td>Mike Dovillas big ideas like expanding the Ohi...</td>\n",
       "      <td>1</td>\n",
       "      <td>TRAIN</td>\n",
       "    </tr>\n",
       "    <tr>\n",
       "      <th>2</th>\n",
       "      <td>Ron Klein repeatedly voted in favor of amnesty...</td>\n",
       "      <td>0</td>\n",
       "      <td>TRAIN</td>\n",
       "    </tr>\n",
       "    <tr>\n",
       "      <th>3</th>\n",
       "      <td>Since the salary for state lawmakers was raise...</td>\n",
       "      <td>1</td>\n",
       "      <td>TRAIN</td>\n",
       "    </tr>\n",
       "    <tr>\n",
       "      <th>4</th>\n",
       "      <td>Before Congress, (Tom) Cotton got paid handsom...</td>\n",
       "      <td>0</td>\n",
       "      <td>TRAIN</td>\n",
       "    </tr>\n",
       "  </tbody>\n",
       "</table>\n",
       "</div>"
      ],
      "text/plain": [
       "                                                text  truth  split\n",
       "0  The decision to remove Chick-fil-A from Emory ...      1  TRAIN\n",
       "1  Mike Dovillas big ideas like expanding the Ohi...      1  TRAIN\n",
       "2  Ron Klein repeatedly voted in favor of amnesty...      0  TRAIN\n",
       "3  Since the salary for state lawmakers was raise...      1  TRAIN\n",
       "4  Before Congress, (Tom) Cotton got paid handsom...      0  TRAIN"
      ]
     },
     "execution_count": 74,
     "metadata": {},
     "output_type": "execute_result"
    }
   ],
   "source": [
    "df = pd.read_csv('combined_relevant_data.csv')\n",
    "print(df.shape)\n",
    "df.head()"
   ]
  },
  {
   "cell_type": "code",
   "execution_count": 75,
   "metadata": {},
   "outputs": [
    {
     "name": "stdout",
     "output_type": "stream",
     "text": [
      "(61281, 3)\n"
     ]
    },
    {
     "data": {
      "text/html": [
       "<div>\n",
       "<style scoped>\n",
       "    .dataframe tbody tr th:only-of-type {\n",
       "        vertical-align: middle;\n",
       "    }\n",
       "\n",
       "    .dataframe tbody tr th {\n",
       "        vertical-align: top;\n",
       "    }\n",
       "\n",
       "    .dataframe thead th {\n",
       "        text-align: right;\n",
       "    }\n",
       "</style>\n",
       "<table border=\"1\" class=\"dataframe\">\n",
       "  <thead>\n",
       "    <tr style=\"text-align: right;\">\n",
       "      <th></th>\n",
       "      <th>text</th>\n",
       "      <th>truth</th>\n",
       "      <th>split</th>\n",
       "    </tr>\n",
       "  </thead>\n",
       "  <tbody>\n",
       "    <tr>\n",
       "      <th>13773</th>\n",
       "      <td>RAW VIDEO War Memorial assassinate. http://t.c...</td>\n",
       "      <td>1</td>\n",
       "      <td>TRAIN</td>\n",
       "    </tr>\n",
       "    <tr>\n",
       "      <th>13774</th>\n",
       "      <td>Says federal regulated adopted in 2011 increas...</td>\n",
       "      <td>1</td>\n",
       "      <td>TEST</td>\n",
       "    </tr>\n",
       "    <tr>\n",
       "      <th>13775</th>\n",
       "      <td>RIPTA has explicitly some of the entire busses...</td>\n",
       "      <td>1</td>\n",
       "      <td>TRAIN</td>\n",
       "    </tr>\n",
       "    <tr>\n",
       "      <th>13776</th>\n",
       "      <td>Lawyer for Dorian Johnson, eyewitness to #Mich...</td>\n",
       "      <td>1</td>\n",
       "      <td>TEST</td>\n",
       "    </tr>\n",
       "    <tr>\n",
       "      <th>13777</th>\n",
       "      <td>#Ferguson: Commune Don't Need Tanks http://t.c...</td>\n",
       "      <td>1</td>\n",
       "      <td>TRAIN</td>\n",
       "    </tr>\n",
       "  </tbody>\n",
       "</table>\n",
       "</div>"
      ],
      "text/plain": [
       "                                                    text  truth  split\n",
       "13773  RAW VIDEO War Memorial assassinate. http://t.c...      1  TRAIN\n",
       "13774  Says federal regulated adopted in 2011 increas...      1   TEST\n",
       "13775  RIPTA has explicitly some of the entire busses...      1  TRAIN\n",
       "13776  Lawyer for Dorian Johnson, eyewitness to #Mich...      1   TEST\n",
       "13777  #Ferguson: Commune Don't Need Tanks http://t.c...      1  TRAIN"
      ]
     },
     "execution_count": 75,
     "metadata": {},
     "output_type": "execute_result"
    }
   ],
   "source": [
    "df_combined = pd.concat([df, df_adv])\n",
    "print(df_combined.shape)\n",
    "df_combined.tail()"
   ]
  },
  {
   "cell_type": "code",
   "execution_count": 76,
   "metadata": {},
   "outputs": [],
   "source": [
    "df_combined.to_csv('combined_adv_training_data.csv', index=None)"
   ]
  },
  {
   "cell_type": "code",
   "execution_count": null,
   "metadata": {},
   "outputs": [],
   "source": []
  }
 ],
 "metadata": {
  "kernelspec": {
   "display_name": "Python 3",
   "language": "python",
   "name": "python3"
  },
  "language_info": {
   "codemirror_mode": {
    "name": "ipython",
    "version": 3
   },
   "file_extension": ".py",
   "mimetype": "text/x-python",
   "name": "python",
   "nbconvert_exporter": "python",
   "pygments_lexer": "ipython3",
   "version": "3.7.1"
  }
 },
 "nbformat": 4,
 "nbformat_minor": 4
}
