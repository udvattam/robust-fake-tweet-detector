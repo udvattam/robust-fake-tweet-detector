{
 "cells": [
  {
   "cell_type": "code",
   "execution_count": 2,
   "metadata": {},
   "outputs": [],
   "source": [
    "import pandas as pd"
   ]
  },
  {
   "cell_type": "code",
   "execution_count": 16,
   "metadata": {},
   "outputs": [
    {
     "name": "stdout",
     "output_type": "stream",
     "text": [
      "(15556, 10)\n"
     ]
    },
    {
     "data": {
      "text/html": [
       "<div>\n",
       "<style scoped>\n",
       "    .dataframe tbody tr th:only-of-type {\n",
       "        vertical-align: middle;\n",
       "    }\n",
       "\n",
       "    .dataframe tbody tr th {\n",
       "        vertical-align: top;\n",
       "    }\n",
       "\n",
       "    .dataframe thead th {\n",
       "        text-align: right;\n",
       "    }\n",
       "</style>\n",
       "<table border=\"1\" class=\"dataframe\">\n",
       "  <thead>\n",
       "    <tr style=\"text-align: right;\">\n",
       "      <th></th>\n",
       "      <th>Unnamed: 0</th>\n",
       "      <th>ground_truth_output</th>\n",
       "      <th>num_queries</th>\n",
       "      <th>original_output</th>\n",
       "      <th>original_score</th>\n",
       "      <th>original_text</th>\n",
       "      <th>perturbed_output</th>\n",
       "      <th>perturbed_score</th>\n",
       "      <th>perturbed_text</th>\n",
       "      <th>result_type</th>\n",
       "    </tr>\n",
       "  </thead>\n",
       "  <tbody>\n",
       "    <tr>\n",
       "      <th>0</th>\n",
       "      <td>0</td>\n",
       "      <td>1.0</td>\n",
       "      <td>75.0</td>\n",
       "      <td>1.0</td>\n",
       "      <td>0.000293</td>\n",
       "      <td>The decision to remove Chick-fil-A from Emory ...</td>\n",
       "      <td>0.0</td>\n",
       "      <td>0.998949</td>\n",
       "      <td>The resolutions to remove Chick-fil-A from Emo...</td>\n",
       "      <td>Successful</td>\n",
       "    </tr>\n",
       "    <tr>\n",
       "      <th>1</th>\n",
       "      <td>1</td>\n",
       "      <td>1.0</td>\n",
       "      <td>120.0</td>\n",
       "      <td>1.0</td>\n",
       "      <td>0.000170</td>\n",
       "      <td>Mike Dovillas big ideas like expanding the Ohi...</td>\n",
       "      <td>0.0</td>\n",
       "      <td>0.927907</td>\n",
       "      <td>Mike Dovillas big ideas like expanding the Ohi...</td>\n",
       "      <td>Successful</td>\n",
       "    </tr>\n",
       "    <tr>\n",
       "      <th>2</th>\n",
       "      <td>2</td>\n",
       "      <td>0.0</td>\n",
       "      <td>1.0</td>\n",
       "      <td>1.0</td>\n",
       "      <td>0.959588</td>\n",
       "      <td>Ron Klein repeatedly voted in favor of amnesty...</td>\n",
       "      <td>1.0</td>\n",
       "      <td>0.959588</td>\n",
       "      <td>Ron Klein repeatedly voted in favor of amnesty...</td>\n",
       "      <td>Skipped</td>\n",
       "    </tr>\n",
       "    <tr>\n",
       "      <th>3</th>\n",
       "      <td>3</td>\n",
       "      <td>1.0</td>\n",
       "      <td>55.0</td>\n",
       "      <td>1.0</td>\n",
       "      <td>0.000151</td>\n",
       "      <td>Since the salary for state lawmakers was raise...</td>\n",
       "      <td>0.0</td>\n",
       "      <td>0.606062</td>\n",
       "      <td>If the salary for state parliamentary was rais...</td>\n",
       "      <td>Successful</td>\n",
       "    </tr>\n",
       "    <tr>\n",
       "      <th>4</th>\n",
       "      <td>4</td>\n",
       "      <td>0.0</td>\n",
       "      <td>41.0</td>\n",
       "      <td>0.0</td>\n",
       "      <td>0.006753</td>\n",
       "      <td>Before Congress, (Tom) Cotton got paid handsom...</td>\n",
       "      <td>1.0</td>\n",
       "      <td>0.968190</td>\n",
       "      <td>Before Congress, (Tom) Cotton got paid gratefu...</td>\n",
       "      <td>Successful</td>\n",
       "    </tr>\n",
       "  </tbody>\n",
       "</table>\n",
       "</div>"
      ],
      "text/plain": [
       "   Unnamed: 0  ground_truth_output  num_queries  original_output  \\\n",
       "0           0                  1.0         75.0              1.0   \n",
       "1           1                  1.0        120.0              1.0   \n",
       "2           2                  0.0          1.0              1.0   \n",
       "3           3                  1.0         55.0              1.0   \n",
       "4           4                  0.0         41.0              0.0   \n",
       "\n",
       "   original_score                                      original_text  \\\n",
       "0        0.000293  The decision to remove Chick-fil-A from Emory ...   \n",
       "1        0.000170  Mike Dovillas big ideas like expanding the Ohi...   \n",
       "2        0.959588  Ron Klein repeatedly voted in favor of amnesty...   \n",
       "3        0.000151  Since the salary for state lawmakers was raise...   \n",
       "4        0.006753  Before Congress, (Tom) Cotton got paid handsom...   \n",
       "\n",
       "   perturbed_output  perturbed_score  \\\n",
       "0               0.0         0.998949   \n",
       "1               0.0         0.927907   \n",
       "2               1.0         0.959588   \n",
       "3               0.0         0.606062   \n",
       "4               1.0         0.968190   \n",
       "\n",
       "                                      perturbed_text result_type  \n",
       "0  The resolutions to remove Chick-fil-A from Emo...  Successful  \n",
       "1  Mike Dovillas big ideas like expanding the Ohi...  Successful  \n",
       "2  Ron Klein repeatedly voted in favor of amnesty...     Skipped  \n",
       "3  If the salary for state parliamentary was rais...  Successful  \n",
       "4  Before Congress, (Tom) Cotton got paid gratefu...  Successful  "
      ]
     },
     "execution_count": 16,
     "metadata": {},
     "output_type": "execute_result"
    }
   ],
   "source": [
    "df = pd.read_csv('cleaned_textfooler_tweets.csv')\n",
    "print(df.shape)\n",
    "df.head()"
   ]
  },
  {
   "cell_type": "code",
   "execution_count": 17,
   "metadata": {},
   "outputs": [
    {
     "name": "stdout",
     "output_type": "stream",
     "text": [
      "(15556, 1)\n"
     ]
    }
   ],
   "source": [
    "df_data = df[['perturbed_text']]\n",
    "df_data.columns = ['text']\n",
    "print(df_data.shape)"
   ]
  },
  {
   "cell_type": "code",
   "execution_count": 18,
   "metadata": {},
   "outputs": [
    {
     "name": "stdout",
     "output_type": "stream",
     "text": [
      "(11667, 1) (3889, 1)\n"
     ]
    }
   ],
   "source": [
    "df_train = df_data[:int(len(df_data)*0.75)]\n",
    "df_test = df_data[int(len(df_data)*0.75):]\n",
    "print(df_train.shape, df_test.shape)"
   ]
  },
  {
   "cell_type": "code",
   "execution_count": 19,
   "metadata": {},
   "outputs": [],
   "source": [
    "df_train.to_csv('train.csv', index=None)"
   ]
  },
  {
   "cell_type": "code",
   "execution_count": null,
   "metadata": {},
   "outputs": [],
   "source": []
  },
  {
   "cell_type": "code",
   "execution_count": 4,
   "metadata": {},
   "outputs": [
    {
     "name": "stdout",
     "output_type": "stream",
     "text": [
      "(61281, 3)\n",
      "                                                text  truth  split\n",
      "0  The decision to remove Chick-fil-A from Emory ...      1  TRAIN\n",
      "1  Mike Dovillas big ideas like expanding the Ohi...      1  TRAIN\n",
      "2  Ron Klein repeatedly voted in favor of amnesty...      0  TRAIN\n",
      "3  Since the salary for state lawmakers was raise...      1  TRAIN\n",
      "4  Before Congress, (Tom) Cotton got paid handsom...      0  TRAIN\n"
     ]
    }
   ],
   "source": [
    "df_test = pd.read_csv('combined_adv_training_data.csv')\n",
    "print(df_test.shape)\n",
    "print(df_test.head())"
   ]
  },
  {
   "cell_type": "code",
   "execution_count": 5,
   "metadata": {},
   "outputs": [
    {
     "name": "stdout",
     "output_type": "stream",
     "text": [
      "(14015, 3)\n",
      "                                                    text  truth split\n",
      "40377  At Twin River, were more than competitive with...      1  TEST\n",
      "40378  BBC ideal headline\\n\"Devout Muslim trapped by ...      1  TEST\n",
      "40379  Over the last six years, the state of Illinois...      1  TEST\n",
      "40380       Trump vs. Clinton Is the 1980s vs. the 1990s      1  TEST\n",
      "40381  Says a pack-a-day smoker who quits because of ...      1  TEST\n"
     ]
    }
   ],
   "source": [
    "df_test = df_test[df_test['split']=='TEST']\n",
    "print(df_test.shape)\n",
    "print(df_test.head())"
   ]
  },
  {
   "cell_type": "code",
   "execution_count": 6,
   "metadata": {},
   "outputs": [
    {
     "data": {
      "text/plain": [
       "1    8563\n",
       "0    5452\n",
       "Name: truth, dtype: int64"
      ]
     },
     "execution_count": 6,
     "metadata": {},
     "output_type": "execute_result"
    }
   ],
   "source": [
    "df_test.truth.value_counts()"
   ]
  },
  {
   "cell_type": "code",
   "execution_count": 7,
   "metadata": {},
   "outputs": [],
   "source": [
    "df_test.to_csv('test.csv')"
   ]
  },
  {
   "cell_type": "code",
   "execution_count": null,
   "metadata": {},
   "outputs": [],
   "source": []
  },
  {
   "cell_type": "code",
   "execution_count": null,
   "metadata": {},
   "outputs": [],
   "source": []
  },
  {
   "cell_type": "code",
   "execution_count": null,
   "metadata": {},
   "outputs": [],
   "source": [
    "# train/test before adversarial samples\n",
    "(29926, 128) (3326, 128) (29926,) (3326,)\n",
    "(7126, 128) (7126,)"
   ]
  },
  {
   "cell_type": "code",
   "execution_count": null,
   "metadata": {},
   "outputs": [],
   "source": [
    "# train/test after adversarial samples\n",
    "(36126, 128) (4015, 128) (36126,) (4015,)\n",
    "(14015, 128) (14015,)"
   ]
  }
 ],
 "metadata": {
  "kernelspec": {
   "display_name": "Python 3",
   "language": "python",
   "name": "python3"
  },
  "language_info": {
   "codemirror_mode": {
    "name": "ipython",
    "version": 3
   },
   "file_extension": ".py",
   "mimetype": "text/x-python",
   "name": "python",
   "nbconvert_exporter": "python",
   "pygments_lexer": "ipython3",
   "version": "3.7.1"
  }
 },
 "nbformat": 4,
 "nbformat_minor": 4
}
